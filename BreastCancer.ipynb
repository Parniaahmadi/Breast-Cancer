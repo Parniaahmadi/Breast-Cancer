{
  "nbformat": 4,
  "nbformat_minor": 0,
  "metadata": {
    "colab": {
      "provenance": [],
      "authorship_tag": "ABX9TyO3XQYQmX9QGPHX2NXaD+1j",
      "include_colab_link": true
    },
    "kernelspec": {
      "name": "python3",
      "display_name": "Python 3"
    },
    "language_info": {
      "name": "python"
    }
  },
  "cells": [
    {
      "cell_type": "markdown",
      "metadata": {
        "id": "view-in-github",
        "colab_type": "text"
      },
      "source": [
        "<a href=\"https://colab.research.google.com/github/Parniaahmadi/Breast-Cancer/blob/main/BreastCancer.ipynb\" target=\"_parent\"><img src=\"https://colab.research.google.com/assets/colab-badge.svg\" alt=\"Open In Colab\"/></a>"
      ]
    },
    {
      "cell_type": "markdown",
      "source": [
        "# **Feature Selection, Feature Extraction, Cross-Validation, Pipeline and Grid Search (Predicting Breast Cancer Using KNN)**\n"
      ],
      "metadata": {
        "id": "KRniUNKBJiz8"
      }
    },
    {
      "cell_type": "code",
      "source": [
        "import warnings\n",
        "warnings.filterwarnings('ignore')"
      ],
      "metadata": {
        "id": "YNuuwfANJk5L"
      },
      "execution_count": 5,
      "outputs": []
    },
    {
      "cell_type": "code",
      "source": [
        "!pip install -U scikit-learn  # Install the latest version of scikit-learn"
      ],
      "metadata": {
        "colab": {
          "base_uri": "https://localhost:8080/"
        },
        "id": "GGRgXxywI7J-",
        "outputId": "6cb75b32-e022-4572-fba0-cabdfc7b6cfe"
      },
      "execution_count": 6,
      "outputs": [
        {
          "output_type": "stream",
          "name": "stdout",
          "text": [
            "Requirement already satisfied: scikit-learn in /usr/local/lib/python3.10/dist-packages (1.5.1)\n",
            "Requirement already satisfied: numpy>=1.19.5 in /usr/local/lib/python3.10/dist-packages (from scikit-learn) (1.25.2)\n",
            "Requirement already satisfied: scipy>=1.6.0 in /usr/local/lib/python3.10/dist-packages (from scikit-learn) (1.11.4)\n",
            "Requirement already satisfied: joblib>=1.2.0 in /usr/local/lib/python3.10/dist-packages (from scikit-learn) (1.4.2)\n",
            "Requirement already satisfied: threadpoolctl>=3.1.0 in /usr/local/lib/python3.10/dist-packages (from scikit-learn) (3.5.0)\n"
          ]
        }
      ]
    },
    {
      "cell_type": "markdown",
      "source": [
        "Before doing exloratory data analysis I import all the necessary libraries and packages which will be used in this project."
      ],
      "metadata": {
        "id": "WpLWZcpYJDbT"
      }
    },
    {
      "cell_type": "code",
      "source": [
        "import numpy as np\n",
        "import pandas as pd\n",
        "import matplotlib.pyplot as plt\n",
        "import matplotlib.cm as cm  # Built-in colormaps and colormap handling utilities\n",
        "import seaborn as sns\n",
        "from sklearn.datasets import load_breast_cancer\n",
        "from sklearn.model_selection import train_test_split  # For splitting the data\n",
        "from sklearn.preprocessing import StandardScaler  # For standaridizing the data\n",
        "from sklearn.neighbors import KNeighborsClassifier  # Import k-nearest neighbors classifier model\n",
        "from sklearn.metrics import accuracy_score  # Import accuracy_score for checking accuracy\n",
        "from sklearn.model_selection import cross_val_score  # For k-fold cross-validation\n",
        "from sklearn.pipeline import make_pipeline  # For making a pipeline\n",
        "from sklearn.decomposition import PCA  # For feature extraction using PCA\n",
        "from sklearn.model_selection import GridSearchCV  # For performing cross-validation using GridSearchCV"
      ],
      "metadata": {
        "id": "ywpirJdJJJYC"
      },
      "execution_count": 7,
      "outputs": []
    },
    {
      "cell_type": "markdown",
      "source": [
        "# Part 1: Exploratory Data Analysis"
      ],
      "metadata": {
        "id": "icxKubg4JYO6"
      }
    },
    {
      "cell_type": "code",
      "source": [],
      "metadata": {
        "id": "0-_jTAPZJSY3"
      },
      "execution_count": null,
      "outputs": []
    }
  ]
}